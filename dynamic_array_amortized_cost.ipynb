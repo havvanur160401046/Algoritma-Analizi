{
 "cells": [
  {
   "cell_type": "code",
   "execution_count": null,
   "metadata": {
    "scrolled": true
   },
   "outputs": [],
   "source": [
    "ADT-s\n",
    "list array, pointer \n",
    "tree BST pointer array"
   ]
  },
  {
   "cell_type": "code",
   "execution_count": null,
   "metadata": {},
   "outputs": [],
   "source": [
    "ADT-s\n",
    " internal\n",
    "    array           amortized insert 1,1111111,n               2  1 n, worst-case\n",
    "    pointer"
   ]
  },
  {
   "cell_type": "code",
   "execution_count": null,
   "metadata": {},
   "outputs": [],
   "source": [
    "list -search O(n),O(logN)"
   ]
  },
  {
   "cell_type": "code",
   "execution_count": 8,
   "metadata": {},
   "outputs": [],
   "source": [
    "import ctypes # C'deki sınıfları kullanmak için                      # provides low-level arrays"
   ]
  },
  {
   "cell_type": "code",
   "execution_count": 21,
   "metadata": {},
   "outputs": [],
   "source": [
    "class DynamicArray:\n",
    "    \"\"\"A dynamic array class akin to a simplified Python list.\"\"\"\n",
    "    def getsize(self):#class kullanılıyorsa ilk parametre self olmalıdı\n",
    "        import sys\n",
    "        try:\n",
    "            return sys.getsizeof(self._A)\n",
    "          \n",
    "        except:\n",
    "            return 0\n",
    "    \n",
    "    def ToString(self):#tostring metodu diziyi yazdrıyor\n",
    "        try:\n",
    "            for i in self._A:\n",
    "                print(i,\" \")\n",
    "        except:\n",
    "            pass\n",
    "    def getLength(self):#dizinin uzunluğunu yazdırıyor\n",
    "        return len(self._A)\n",
    "    def __init__(self):\n",
    "        \"\"\"Create an empty array.\"\"\"#bos dizi olusturma\n",
    "        self._n = 0                                    #dizideki eleman sayısı\n",
    "        self._capacity = 50                             # varsayılan dizi  kapasitesi\n",
    "        self._A = self._make_array(self._capacity)     # low-level array -düşük seviye dizi 1 elemanlı bir yapı olustur\n",
    "    def _make_array(self, c):  #verilen kapasitelik dizi oluşturma \n",
    "        \"\"\"Return new array with capacity c.\"\"\"  #c kapasite ile yeni dizi döndürür\n",
    "        return (c * ctypes.py_object)()       #c birimlik yer oluştur      ctypes.py_object->1 birinlik\n",
    "    def append(self, obj):\n",
    "        \"\"\"Add object to end of the array.\"\"\" #dizinin sonuna eleman ekle\n",
    "        if self._n == self._capacity:                 #dizi dolumu diye kontrol ediliyor\n",
    "            self._resize(2 * self._capacity)             #dolu ise kapasite 2 katına çıkarılıyor\n",
    "        self._A[self._n] = obj#eger dizide yer varsa sonuna elemanı ekle\n",
    "        self._n += 1#eleman sayısını 1 arttıt\n",
    "    def _resize(self, c): \n",
    "        \"\"\"Resize internal array to capacity c.\"\"\" #diziyi kapasiteye göre yeniden boyutlandırın\n",
    "        B = self._make_array(c)                        # new (bigger) array - yeni daha büyük dizi\n",
    "        print(\" şu an amortized cost işlemi ... \")\n",
    "        for k in range(self._n):                       # for each existing value - degerler yeni diziye aktarılıyor\n",
    "            B[k] = self._A[k]\n",
    "            print(\" şu an move işlemi ... \")\n",
    "        self._A = B                                    # self_A artık yeni oluşturulan B nın adresini işaret ediyor\n",
    "        self._capacity = c\n",
    "    def __len__(self): #dizideki eleman sayısını döndürür\n",
    "        \"\"\"Return number of elements stored in the array.\"\"\"\n",
    "        return self._n\n",
    "    def __getitem__(self, k):\n",
    "        \"\"\"Return element at index k.\"\"\"\n",
    "        if not 0 <= k < self._n:\n",
    "            raise IndexError('invalid index') #geçersiz index\n",
    "        return self._A[k]\n",
    "    def insert(self, k, value):#sonraki degerleri saga kaydırark dizin k'ya deger gir\n",
    "        \"\"\"Insert value at index k, shifting subsequent values rightward.\"\"\"\n",
    "        # (for simplicity, we assume 0 <= k <= n in this verion)\n",
    "        if self._n == self._capacity:                  #yetersiz kapasite\n",
    "            self._resize(2 * self._capacity)             #kapasiteyi arttır\n",
    "        for j in range(self._n, k, -1):                # en saga kaydır\n",
    "            self._A[j] = self._A[j-1]\n",
    "        self._A[k] = value                               \n",
    "        self._n += 1\n",
    "    def remove(self, value):  #\n",
    "        \"\"\"Remove first occurrence of value (or raise ValueError).\"\"\"\n",
    "        # note: we do not consider shrinking the dynamic array in this version\n",
    "        for k in range(self._n):\n",
    "            if self._A[k] == value:              # found a match!\n",
    "                for j in range(k, self._n - 1):    # shift others to fill gap\n",
    "                    self._A[j] = self._A[j+1]\n",
    "                self._A[self._n - 1] = None        # help garbage collection\n",
    "                self._n -= 1                       # we have one less item\n",
    "        return                             # exit immediately\n",
    "        raise ValueError('value not found')    # only reached if no match\n",
    "\n"
   ]
  },
  {
   "cell_type": "code",
   "execution_count": 22,
   "metadata": {
    "code_folding": []
   },
   "outputs": [],
   "source": [
    "c=DynamicArray()"
   ]
  },
  {
   "cell_type": "code",
   "execution_count": 23,
   "metadata": {},
   "outputs": [
    {
     "data": {
      "text/plain": [
       "(50, 128)"
      ]
     },
     "execution_count": 23,
     "metadata": {},
     "output_type": "execute_result"
    }
   ],
   "source": [
    "c.getLength(), c.getsize()"
   ]
  },
  {
   "cell_type": "code",
   "execution_count": 26,
   "metadata": {},
   "outputs": [
    {
     "data": {
      "text/plain": [
       "(50, 128, 10)"
      ]
     },
     "execution_count": 26,
     "metadata": {},
     "output_type": "execute_result"
    }
   ],
   "source": [
    "c=DynamicArray()\n",
    "for i in range(10):\n",
    "    c.append(-100)\n",
    "c.getLength(), c.getsize(),c.__len__()"
   ]
  },
  {
   "cell_type": "code",
   "execution_count": null,
   "metadata": {},
   "outputs": [],
   "source": [
    "import sys\n",
    "from pympler import asizeof\n",
    "\n",
    "s_1=sys.getsizeof(c)\n",
    "s_2=asizeof.asizeof(c)\n",
    "print(\"s_1 : {0}, s_2 : {1}\".format(s_1,s_2))"
   ]
  },
  {
   "cell_type": "code",
   "execution_count": null,
   "metadata": {},
   "outputs": [],
   "source": [
    "get_size(c)"
   ]
  },
  {
   "cell_type": "code",
   "execution_count": null,
   "metadata": {},
   "outputs": [],
   "source": [
    "n=1000000\n",
    "for i in range(n):\n",
    "    c.append(12)\n",
    "    c.append(\"sdfsdfsdf\")\n",
    "\n",
    "s_1 = sys.getsizeof(c)\n",
    "s_2 = asizeof.asizeof(c)\n",
    "print(\"n s_1 : {0}, s_2 : {1}\".format(s_1, s_2))"
   ]
  },
  {
   "cell_type": "code",
   "execution_count": null,
   "metadata": {},
   "outputs": [],
   "source": [
    "c._A"
   ]
  },
  {
   "cell_type": "code",
   "execution_count": null,
   "metadata": {},
   "outputs": [],
   "source": [
    "c=DynamicArray();\n",
    "for i in range(10):\n",
    "    c.append(i)\n",
    "    # c.ToString()\n",
    "print(\"len : {0}\".format(c.getLength()),end=\" \")\n",
    "print(\"size : {0}\".format(c.getsize()))"
   ]
  },
  {
   "cell_type": "code",
   "execution_count": null,
   "metadata": {},
   "outputs": [],
   "source": [
    "get_size(c)"
   ]
  },
  {
   "cell_type": "code",
   "execution_count": null,
   "metadata": {},
   "outputs": [],
   "source": [
    "def testDynamicArray(n=100):\n",
    "  \n",
    "   for i in range(n):\n",
    "        c.append(12)\n",
    "        c.append(\"sdfsdfsdf\")\n",
    "\n",
    "    s_1 = sys.getsizeof(c)\n",
    "    s_2 = asizeof.asizeof(c)\n",
    "    print(\"n s_1 : {0}, s_2 : {1}\".format(s_1, s_2))\n",
    "\n",
    "    for i in range(n*10):\n",
    "        c.append(12)\n",
    "        c.append(\"sdfsdfsdf\")\n",
    "        s_1 = sys.getsizeof(c)\n",
    "        s_2 = asizeof.asizeof(c)\n",
    "        print(\"n*10  s_1 : {0}, s_2 : {1}\".format(s_1, s_2))\n",
    "\n",
    "    for i in range(n*100):\n",
    "        c.append(12)\n",
    "        c.append(\"sdfsdfsdf\")\n",
    "        s_1 = sys.getsizeof(c)\n",
    "        s_2 = asizeof.asizeof(c)\n",
    "        print(\"n*100  s_1 : {0}, s_2 : {1}\".format(s_1, s_2))\n",
    "# testDynamicArray(1000)\n",
    "     c=DynamicArray();\n",
    "    for i in range(10):\n",
    "        c.append(i)\n",
    "        c.ToString()\n",
    "        print(\"len : {0}\".format(c.getLength()))\n",
    "        print(\"size : {0}\".format(c.getsize()))"
   ]
  },
  {
   "cell_type": "code",
   "execution_count": null,
   "metadata": {},
   "outputs": [],
   "source": [
    "import sys #bir arrayin bellkete ne kadar yer kapladıgı\n",
    "\n",
    "def get_size(obj, seen=None):\n",
    "    \"\"\"Recursively finds size of objects\"\"\"\n",
    "    size = sys.getsizeof(obj)\n",
    "    if seen is None:\n",
    "        seen = set()\n",
    "    obj_id = id(obj)\n",
    "    if obj_id in seen:\n",
    "        return 0\n",
    "    # Important mark as seen *before* entering recursion to gracefully handle\n",
    "    # self-referential objects\n",
    "    seen.add(obj_id)\n",
    "    if isinstance(obj, dict):\n",
    "        size += sum([get_size(v, seen) for v in obj.values()])\n",
    "        size += sum([get_size(k, seen) for k in obj.keys()])\n",
    "    elif hasattr(obj, '__dict__'):\n",
    "        size += get_size(obj.__dict__, seen)\n",
    "    elif hasattr(obj, '__iter__') and not isinstance(obj, (str, bytes, bytearray)):\n",
    "        size += sum([get_size(i, seen) for i in obj])\n",
    "    return size"
   ]
  }
 ],
 "metadata": {
  "kernelspec": {
   "display_name": "Python 3",
   "language": "python",
   "name": "python3"
  },
  "language_info": {
   "codemirror_mode": {
    "name": "ipython",
    "version": 3
   },
   "file_extension": ".py",
   "mimetype": "text/x-python",
   "name": "python",
   "nbconvert_exporter": "python",
   "pygments_lexer": "ipython3",
   "version": "3.7.4"
  }
 },
 "nbformat": 4,
 "nbformat_minor": 2
}
