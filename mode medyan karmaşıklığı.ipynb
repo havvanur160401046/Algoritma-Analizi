{
 "cells": [
  {
   "cell_type": "code",
   "execution_count": 3,
   "metadata": {},
   "outputs": [],
   "source": [
    "import random"
   ]
  },
  {
   "cell_type": "code",
   "execution_count": 6,
   "metadata": {},
   "outputs": [
    {
     "data": {
      "text/plain": [
       "[-2, -4, 5, -1, -5, -1, -1, 3, 2, 5]"
      ]
     },
     "execution_count": 6,
     "metadata": {},
     "output_type": "execute_result"
    }
   ],
   "source": [
    "def get_n_random_numbers(n=10,min_=-5,max_=5):#-5 ve 5 aralıgında 10 sayı üretti\n",
    "    numbers=[]\n",
    "    for i in range(n): # complexity -> n\n",
    "        numbers.append(random.randint(min_,max_))\n",
    "    return numbers\n",
    "get_n_random_numbers()"
   ]
  },
  {
   "cell_type": "code",
   "execution_count": 7,
   "metadata": {},
   "outputs": [],
   "source": [
    "def getModeMedian(list_1): #complexity => n^2+n+n+1 den n^2+2n+1 2n ve 1 gözardı ediyoruz complexity=n^2 olur\n",
    "    n=len(list_1)\n",
    "    frequency_dict={}\n",
    "    frequency_max=-1\n",
    "    mode=-1\n",
    "    for i in range (n-1,-1,-1): #listeyi sıralama karmaşıklık => N*N=N^2\n",
    "            for j in range(0,i):\n",
    "                if not(list_1[j]<list_1[j+1]):\n",
    "                    temp=list_1[j]\n",
    "                    list_1[j]=list_1[j+1]\n",
    "                    list_1[j+1]=temp\n",
    "    print(list_1) \n",
    "   \n",
    "    for item in list_1: #Histogramın oluşturulması => N\n",
    "        if (item in frequency_dict):\n",
    "            frequency_dict[item]=frequency_dict[item]+1\n",
    "        else:\n",
    "            frequency_dict[item]=1\n",
    "    print(frequency_dict)\n",
    "    \n",
    "    if n%2==1:  #medianın bulunması =>1\n",
    "        median=list_1[int(n/2)]\n",
    "    else:\n",
    "        median=(list_1[int(n/2)-1]+list_1[int(n/2)])/2\n",
    "    \n",
    "    for key in frequency_dict.keys():#Histogramdan modun bulunması=> N\n",
    "        if frequency_dict[key]>frequency_max:\n",
    "            frequency_max=frequency_dict[key]\n",
    "            mode=key\n",
    "    return mode,median\n",
    "    "
   ]
  },
  {
   "cell_type": "code",
   "execution_count": 8,
   "metadata": {},
   "outputs": [
    {
     "name": "stdout",
     "output_type": "stream",
     "text": [
      "[-4, -4, -4, -3, -3, 0, 0, 2, 4, 4]\n",
      "{-4: 3, -3: 2, 0: 2, 2: 1, 4: 2}\n"
     ]
    },
    {
     "data": {
      "text/plain": [
       "(-4, -1.5)"
      ]
     },
     "execution_count": 8,
     "metadata": {},
     "output_type": "execute_result"
    }
   ],
   "source": [
    "list_1=get_n_random_numbers(10,-4,4)\n",
    "getModeMedian(list_1)"
   ]
  },
  {
   "cell_type": "code",
   "execution_count": null,
   "metadata": {},
   "outputs": [],
   "source": []
  }
 ],
 "metadata": {
  "kernelspec": {
   "display_name": "Python 3",
   "language": "python",
   "name": "python3"
  },
  "language_info": {
   "codemirror_mode": {
    "name": "ipython",
    "version": 3
   },
   "file_extension": ".py",
   "mimetype": "text/x-python",
   "name": "python",
   "nbconvert_exporter": "python",
   "pygments_lexer": "ipython3",
   "version": "3.7.4"
  }
 },
 "nbformat": 4,
 "nbformat_minor": 2
}
