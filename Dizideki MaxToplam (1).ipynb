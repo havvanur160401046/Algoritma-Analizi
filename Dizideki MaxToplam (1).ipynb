{
 "cells": [
  {
   "cell_type": "code",
   "execution_count": 1,
   "metadata": {},
   "outputs": [],
   "source": [
    "\n",
    "List_1=[4,-3,5,-2,-1,2,6,-2]\n",
    "\n",
    "    "
   ]
  },
  {
   "cell_type": "code",
   "execution_count": 2,
   "metadata": {},
   "outputs": [],
   "source": [
    "def my_f_1(List_1=[4,-3,5,-2,-1,2,6,-2]): #n3 lü olan bu fonsıyonu 84 defa çalıstırdı\n",
    "    s=0\n",
    "    n=len(List_1)\n",
    "    maxsum=0\n",
    "    for i in range(n):\n",
    "        for j in range(i,n):\n",
    "            t=0\n",
    "            for k in range(i,j):\n",
    "                t=t+List_1[k]\n",
    "                s=s+1\n",
    "            if t>maxsum:\n",
    "                maxsum=t\n",
    "    return maxsum,s"
   ]
  },
  {
   "cell_type": "code",
   "execution_count": 3,
   "metadata": {},
   "outputs": [
    {
     "data": {
      "text/plain": [
       "(11, 84)"
      ]
     },
     "execution_count": 3,
     "metadata": {},
     "output_type": "execute_result"
    }
   ],
   "source": [
    "my_f_1()"
   ]
  },
  {
   "cell_type": "code",
   "execution_count": 17,
   "metadata": {},
   "outputs": [
    {
     "data": {
      "text/plain": [
       "(11, 0, 6, 36)"
      ]
     },
     "execution_count": 17,
     "metadata": {},
     "output_type": "execute_result"
    }
   ],
   "source": [
    "def my_f_2(List_1=[4,-3,5,-2,-1,2,6,-2]): # n2 li olan fonsiyon sonucu\n",
    "    s=0\n",
    "    n=len(List_1)\n",
    "    maxsum=0\n",
    "    for i in range(n):\n",
    "        t=0\n",
    "        for j in range(i,n):\n",
    "            t=t+List_1[j]\n",
    "            s=s+1\n",
    "            if t>maxsum:\n",
    "                i_1,i_2=i,j\n",
    "                maxsum=t\n",
    "    return maxsum,i_1,i_2,s\n",
    "my_f_2()"
   ]
  },
  {
   "cell_type": "code",
   "execution_count": 28,
   "metadata": {
    "collapsed": true
   },
   "outputs": [],
   "source": [
    "def my_f_3(List_1=[4,-3,5,-2,-1,2,6,-2]):\n",
    "    \n",
    "    n=len(List_1)\n",
    "    \n",
    "    \n",
    "    if n==1:\n",
    "        return List_1[0]\n",
    "    else:\n",
    "        left_list=List_1[0:n//2]\n",
    "        right_list=List_1[n//2:n]\n",
    "        \n",
    "        left_sum=my_f_3(left_list)\n",
    "        right_sum=my_f_3(right_list)\n",
    "        \n",
    "        center_sum=0\n",
    "        temp_sum_left=0\n",
    "        t=0\n",
    "        for i in range(n//2-1,-1,-1):\n",
    "            t=t+List_1[i]\n",
    "            if t>temp_sum_left:\n",
    "                temp_sum_left=t\n",
    "        t=0\n",
    "        temp_sum_right=0\n",
    "        for i in range(n//2,n):\n",
    "            t=t+List_1[i]\n",
    "            if t>temp_sum_right:\n",
    "                temp_sum_right=t\n",
    "        center_sum=temp_sum_left+temp_sum_right\n",
    "        return max_of_three(left_sum,right_sum,center_sum)"
   ]
  },
  {
   "cell_type": "code",
   "execution_count": 29,
   "metadata": {},
   "outputs": [
    {
     "data": {
      "text/plain": [
       "10"
      ]
     },
     "execution_count": 29,
     "metadata": {},
     "output_type": "execute_result"
    }
   ],
   "source": [
    "def max_of_two(a,b):\n",
    "    if a>b:\n",
    "        return a\n",
    "    else:\n",
    "        return b\n",
    "def max_of_three(a,b,c):\n",
    "    return (max_of_two(a,max_of_two(b,c)))\n",
    "max_of_three(10,5,6)"
   ]
  },
  {
   "cell_type": "code",
   "execution_count": 31,
   "metadata": {},
   "outputs": [
    {
     "data": {
      "text/plain": [
       "11"
      ]
     },
     "execution_count": 31,
     "metadata": {},
     "output_type": "execute_result"
    }
   ],
   "source": [
    "my_f_3()"
   ]
  },
  {
   "cell_type": "code",
   "execution_count": 32,
   "metadata": {
    "collapsed": true
   },
   "outputs": [],
   "source": [
    "n=len(List_1)\n"
   ]
  },
  {
   "cell_type": "code",
   "execution_count": null,
   "metadata": {
    "collapsed": true
   },
   "outputs": [],
   "source": []
  }
 ],
 "metadata": {
  "anaconda-cloud": {},
  "kernelspec": {
   "display_name": "Python 3",
   "language": "python",
   "name": "python3"
  },
  "language_info": {
   "codemirror_mode": {
    "name": "ipython",
    "version": 3
   },
   "file_extension": ".py",
   "mimetype": "text/x-python",
   "name": "python",
   "nbconvert_exporter": "python",
   "pygments_lexer": "ipython3",
   "version": "3.7.4"
  }
 },
 "nbformat": 4,
 "nbformat_minor": 1
}
